{
 "cells": [
  {
   "cell_type": "code",
   "execution_count": 1,
   "id": "7fce9c67",
   "metadata": {},
   "outputs": [
    {
     "name": "stderr",
     "output_type": "stream",
     "text": [
      "/Library/Frameworks/Python.framework/Versions/3.12/lib/python3.12/site-packages/pydantic/_internal/_fields.py:201: UserWarning: Field name \"json\" in \"MonitoringDatasetFormat\" shadows an attribute in parent \"Base\"\n",
      "  warnings.warn(\n"
     ]
    },
    {
     "data": {
      "text/html": [
       "<pre style=\"white-space:pre;overflow-x:auto;line-height:normal;font-family:Menlo,'DejaVu Sans Mono',consolas,'Courier New',monospace\"><span style=\"color: #7fbfbf; text-decoration-color: #7fbfbf\">[04/15/25 20:54:03] </span><span style=\"color: #0069ff; text-decoration-color: #0069ff; font-weight: bold\">INFO    </span> Found credentials in shared credentials file: ~<span style=\"color: #e100e1; text-decoration-color: #e100e1\">/.aws/credentials</span>   <a href=\"file:///Library/Frameworks/Python.framework/Versions/3.12/lib/python3.12/site-packages/botocore/credentials.py\" target=\"_blank\"><span style=\"color: #7f7f7f; text-decoration-color: #7f7f7f\">credentials.py</span></a><span style=\"color: #7f7f7f; text-decoration-color: #7f7f7f\">:</span><a href=\"file:///Library/Frameworks/Python.framework/Versions/3.12/lib/python3.12/site-packages/botocore/credentials.py#1352\" target=\"_blank\"><span style=\"color: #7f7f7f; text-decoration-color: #7f7f7f\">1352</span></a>\n",
       "</pre>\n"
      ],
      "text/plain": [
       "\u001b[2;36m[04/15/25 20:54:03]\u001b[0m\u001b[2;36m \u001b[0m\u001b[1;38;2;0;105;255mINFO    \u001b[0m Found credentials in shared credentials file: ~\u001b[38;2;225;0;225m/.aws/\u001b[0m\u001b[38;2;225;0;225mcredentials\u001b[0m   \u001b]8;id=104801;file:///Library/Frameworks/Python.framework/Versions/3.12/lib/python3.12/site-packages/botocore/credentials.py\u001b\\\u001b[2mcredentials.py\u001b[0m\u001b]8;;\u001b\\\u001b[2m:\u001b[0m\u001b]8;id=275698;file:///Library/Frameworks/Python.framework/Versions/3.12/lib/python3.12/site-packages/botocore/credentials.py#1352\u001b\\\u001b[2m1352\u001b[0m\u001b]8;;\u001b\\\n"
      ]
     },
     "metadata": {},
     "output_type": "display_data"
    },
    {
     "name": "stdout",
     "output_type": "stream",
     "text": [
      "sagemaker.config INFO - Not applying SDK defaults from location: /Library/Application Support/sagemaker/config.yaml\n",
      "sagemaker.config INFO - Not applying SDK defaults from location: /Users/manraj/Library/Application Support/sagemaker/config.yaml\n"
     ]
    },
    {
     "data": {
      "text/html": [
       "<pre style=\"white-space:pre;overflow-x:auto;line-height:normal;font-family:Menlo,'DejaVu Sans Mono',consolas,'Courier New',monospace\"><span style=\"color: #7fbfbf; text-decoration-color: #7fbfbf\">[04/15/25 20:54:04] </span><span style=\"color: #0069ff; text-decoration-color: #0069ff; font-weight: bold\">INFO    </span> Found credentials in shared credentials file: ~<span style=\"color: #e100e1; text-decoration-color: #e100e1\">/.aws/credentials</span>   <a href=\"file:///Library/Frameworks/Python.framework/Versions/3.12/lib/python3.12/site-packages/botocore/credentials.py\" target=\"_blank\"><span style=\"color: #7f7f7f; text-decoration-color: #7f7f7f\">credentials.py</span></a><span style=\"color: #7f7f7f; text-decoration-color: #7f7f7f\">:</span><a href=\"file:///Library/Frameworks/Python.framework/Versions/3.12/lib/python3.12/site-packages/botocore/credentials.py#1352\" target=\"_blank\"><span style=\"color: #7f7f7f; text-decoration-color: #7f7f7f\">1352</span></a>\n",
       "</pre>\n"
      ],
      "text/plain": [
       "\u001b[2;36m[04/15/25 20:54:04]\u001b[0m\u001b[2;36m \u001b[0m\u001b[1;38;2;0;105;255mINFO    \u001b[0m Found credentials in shared credentials file: ~\u001b[38;2;225;0;225m/.aws/\u001b[0m\u001b[38;2;225;0;225mcredentials\u001b[0m   \u001b]8;id=770374;file:///Library/Frameworks/Python.framework/Versions/3.12/lib/python3.12/site-packages/botocore/credentials.py\u001b\\\u001b[2mcredentials.py\u001b[0m\u001b]8;;\u001b\\\u001b[2m:\u001b[0m\u001b]8;id=305909;file:///Library/Frameworks/Python.framework/Versions/3.12/lib/python3.12/site-packages/botocore/credentials.py#1352\u001b\\\u001b[2m1352\u001b[0m\u001b]8;;\u001b\\\n"
      ]
     },
     "metadata": {},
     "output_type": "display_data"
    }
   ],
   "source": [
    "import boto3\n",
    "import sagemaker\n",
    "from sagemaker.sklearn.estimator import SKLearn\n",
    "\n",
    "from sagemaker.serializers import CSVSerializer\n",
    "from sagemaker.deserializers import CSVDeserializer\n",
    "\n",
    "\n",
    "# Create a boto3 session in us-east-2\n",
    "boto_session = boto3.Session(region_name=\"ca-central-1\")\n",
    "sagemaker_session = sagemaker.Session(boto_session=boto_session)\n",
    "\n",
    "role = \"arn:aws:iam::222634404112:role/SageMakerExecutionRole-ca\"\n",
    "job_name = \"occupancy-model-t1\""
   ]
  },
  {
   "cell_type": "code",
   "execution_count": 2,
   "id": "7975f53e",
   "metadata": {},
   "outputs": [
    {
     "data": {
      "text/html": [
       "<pre style=\"white-space:pre;overflow-x:auto;line-height:normal;font-family:Menlo,'DejaVu Sans Mono',consolas,'Courier New',monospace\"><span style=\"color: #7fbfbf; text-decoration-color: #7fbfbf\">[04/15/25 20:54:05] </span><span style=\"color: #0069ff; text-decoration-color: #0069ff; font-weight: bold\">INFO    </span> Found credentials in shared credentials file: ~<span style=\"color: #e100e1; text-decoration-color: #e100e1\">/.aws/credentials</span>   <a href=\"file:///Library/Frameworks/Python.framework/Versions/3.12/lib/python3.12/site-packages/botocore/credentials.py\" target=\"_blank\"><span style=\"color: #7f7f7f; text-decoration-color: #7f7f7f\">credentials.py</span></a><span style=\"color: #7f7f7f; text-decoration-color: #7f7f7f\">:</span><a href=\"file:///Library/Frameworks/Python.framework/Versions/3.12/lib/python3.12/site-packages/botocore/credentials.py#1352\" target=\"_blank\"><span style=\"color: #7f7f7f; text-decoration-color: #7f7f7f\">1352</span></a>\n",
       "</pre>\n"
      ],
      "text/plain": [
       "\u001b[2;36m[04/15/25 20:54:05]\u001b[0m\u001b[2;36m \u001b[0m\u001b[1;38;2;0;105;255mINFO    \u001b[0m Found credentials in shared credentials file: ~\u001b[38;2;225;0;225m/.aws/\u001b[0m\u001b[38;2;225;0;225mcredentials\u001b[0m   \u001b]8;id=355455;file:///Library/Frameworks/Python.framework/Versions/3.12/lib/python3.12/site-packages/botocore/credentials.py\u001b\\\u001b[2mcredentials.py\u001b[0m\u001b]8;;\u001b\\\u001b[2m:\u001b[0m\u001b]8;id=888855;file:///Library/Frameworks/Python.framework/Versions/3.12/lib/python3.12/site-packages/botocore/credentials.py#1352\u001b\\\u001b[2m1352\u001b[0m\u001b]8;;\u001b\\\n"
      ]
     },
     "metadata": {},
     "output_type": "display_data"
    },
    {
     "data": {
      "text/html": [
       "<pre style=\"white-space:pre;overflow-x:auto;line-height:normal;font-family:Menlo,'DejaVu Sans Mono',consolas,'Courier New',monospace\"><span style=\"color: #7fbfbf; text-decoration-color: #7fbfbf\">                    </span><span style=\"color: #0069ff; text-decoration-color: #0069ff; font-weight: bold\">INFO    </span> SageMaker Python SDK will collect telemetry to help us better  <a href=\"file:///Library/Frameworks/Python.framework/Versions/3.12/lib/python3.12/site-packages/sagemaker/telemetry/telemetry_logging.py\" target=\"_blank\"><span style=\"color: #7f7f7f; text-decoration-color: #7f7f7f\">telemetry_logging.py</span></a><span style=\"color: #7f7f7f; text-decoration-color: #7f7f7f\">:</span><a href=\"file:///Library/Frameworks/Python.framework/Versions/3.12/lib/python3.12/site-packages/sagemaker/telemetry/telemetry_logging.py#91\" target=\"_blank\"><span style=\"color: #7f7f7f; text-decoration-color: #7f7f7f\">91</span></a>\n",
       "<span style=\"color: #7fbfbf; text-decoration-color: #7fbfbf\">                    </span>         understand our user's needs, diagnose issues, and deliver      <span style=\"color: #7f7f7f; text-decoration-color: #7f7f7f\">                       </span>\n",
       "<span style=\"color: #7fbfbf; text-decoration-color: #7fbfbf\">                    </span>         additional features.                                           <span style=\"color: #7f7f7f; text-decoration-color: #7f7f7f\">                       </span>\n",
       "<span style=\"color: #7fbfbf; text-decoration-color: #7fbfbf\">                    </span>         To opt out of telemetry, please disable via TelemetryOptOut    <span style=\"color: #7f7f7f; text-decoration-color: #7f7f7f\">                       </span>\n",
       "<span style=\"color: #7fbfbf; text-decoration-color: #7fbfbf\">                    </span>         parameter in SDK defaults config. For more information, refer  <span style=\"color: #7f7f7f; text-decoration-color: #7f7f7f\">                       </span>\n",
       "<span style=\"color: #7fbfbf; text-decoration-color: #7fbfbf\">                    </span>         to                                                             <span style=\"color: #7f7f7f; text-decoration-color: #7f7f7f\">                       </span>\n",
       "<span style=\"color: #7fbfbf; text-decoration-color: #7fbfbf\">                    </span>         <span style=\"color: #0069ff; text-decoration-color: #0069ff; text-decoration: underline\">https://sagemaker.readthedocs.io/en/stable/overview.html#confi</span> <span style=\"color: #7f7f7f; text-decoration-color: #7f7f7f\">                       </span>\n",
       "<span style=\"color: #7fbfbf; text-decoration-color: #7fbfbf\">                    </span>         <span style=\"color: #0069ff; text-decoration-color: #0069ff; text-decoration: underline\">guring-and-using-defaults-with-the-sagemaker-python-sdk.</span>       <span style=\"color: #7f7f7f; text-decoration-color: #7f7f7f\">                       </span>\n",
       "</pre>\n"
      ],
      "text/plain": [
       "\u001b[2;36m                   \u001b[0m\u001b[2;36m \u001b[0m\u001b[1;38;2;0;105;255mINFO    \u001b[0m SageMaker Python SDK will collect telemetry to help us better  \u001b]8;id=493246;file:///Library/Frameworks/Python.framework/Versions/3.12/lib/python3.12/site-packages/sagemaker/telemetry/telemetry_logging.py\u001b\\\u001b[2mtelemetry_logging.py\u001b[0m\u001b]8;;\u001b\\\u001b[2m:\u001b[0m\u001b]8;id=487123;file:///Library/Frameworks/Python.framework/Versions/3.12/lib/python3.12/site-packages/sagemaker/telemetry/telemetry_logging.py#91\u001b\\\u001b[2m91\u001b[0m\u001b]8;;\u001b\\\n",
       "\u001b[2;36m                    \u001b[0m         understand our user's needs, diagnose issues, and deliver      \u001b[2m                       \u001b[0m\n",
       "\u001b[2;36m                    \u001b[0m         additional features.                                           \u001b[2m                       \u001b[0m\n",
       "\u001b[2;36m                    \u001b[0m         To opt out of telemetry, please disable via TelemetryOptOut    \u001b[2m                       \u001b[0m\n",
       "\u001b[2;36m                    \u001b[0m         parameter in SDK defaults config. For more information, refer  \u001b[2m                       \u001b[0m\n",
       "\u001b[2;36m                    \u001b[0m         to                                                             \u001b[2m                       \u001b[0m\n",
       "\u001b[2;36m                    \u001b[0m         \u001b[4;38;2;0;105;255mhttps://sagemaker.readthedocs.io/en/stable/overview.html#confi\u001b[0m \u001b[2m                       \u001b[0m\n",
       "\u001b[2;36m                    \u001b[0m         \u001b[4;38;2;0;105;255mguring-and-using-defaults-with-the-sagemaker-python-sdk.\u001b[0m       \u001b[2m                       \u001b[0m\n"
      ]
     },
     "metadata": {},
     "output_type": "display_data"
    },
    {
     "data": {
      "text/html": [
       "<pre style=\"white-space:pre;overflow-x:auto;line-height:normal;font-family:Menlo,'DejaVu Sans Mono',consolas,'Courier New',monospace\"><span style=\"color: #7fbfbf; text-decoration-color: #7fbfbf\">[04/15/25 20:54:09] </span><span style=\"color: #0069ff; text-decoration-color: #0069ff; font-weight: bold\">INFO    </span> Creating training-job with name:                                       <a href=\"file:///Library/Frameworks/Python.framework/Versions/3.12/lib/python3.12/site-packages/sagemaker/session.py\" target=\"_blank\"><span style=\"color: #7f7f7f; text-decoration-color: #7f7f7f\">session.py</span></a><span style=\"color: #7f7f7f; text-decoration-color: #7f7f7f\">:</span><a href=\"file:///Library/Frameworks/Python.framework/Versions/3.12/lib/python3.12/site-packages/sagemaker/session.py#1042\" target=\"_blank\"><span style=\"color: #7f7f7f; text-decoration-color: #7f7f7f\">1042</span></a>\n",
       "<span style=\"color: #7fbfbf; text-decoration-color: #7fbfbf\">                    </span>         sagemaker-scikit-learn-<span style=\"color: #008080; text-decoration-color: #008080; font-weight: bold\">2025</span>-04-16-03-54-05-319                         <span style=\"color: #7f7f7f; text-decoration-color: #7f7f7f\">               </span>\n",
       "</pre>\n"
      ],
      "text/plain": [
       "\u001b[2;36m[04/15/25 20:54:09]\u001b[0m\u001b[2;36m \u001b[0m\u001b[1;38;2;0;105;255mINFO    \u001b[0m Creating training-job with name:                                       \u001b]8;id=654997;file:///Library/Frameworks/Python.framework/Versions/3.12/lib/python3.12/site-packages/sagemaker/session.py\u001b\\\u001b[2msession.py\u001b[0m\u001b]8;;\u001b\\\u001b[2m:\u001b[0m\u001b]8;id=62208;file:///Library/Frameworks/Python.framework/Versions/3.12/lib/python3.12/site-packages/sagemaker/session.py#1042\u001b\\\u001b[2m1042\u001b[0m\u001b]8;;\u001b\\\n",
       "\u001b[2;36m                    \u001b[0m         sagemaker-scikit-learn-\u001b[1;36m2025\u001b[0m-04-16-03-54-05-319                         \u001b[2m               \u001b[0m\n"
      ]
     },
     "metadata": {},
     "output_type": "display_data"
    },
    {
     "name": "stdout",
     "output_type": "stream",
     "text": [
      "2025-04-16 03:54:11 Starting - Starting the training job...\n",
      "2025-04-16 03:54:40 Starting - Preparing the instances for training...\n",
      "2025-04-16 03:55:12 Downloading - Downloading the training image...\n",
      "2025-04-16 03:55:47 Training - Training image download completed. Training in progress...2025-04-16 03:55:57,020 sagemaker-containers INFO     Imported framework sagemaker_sklearn_container.training\n",
      "2025-04-16 03:55:57,023 sagemaker-training-toolkit INFO     No GPUs detected (normal if no gpus installed)\n",
      "2025-04-16 03:55:57,064 sagemaker_sklearn_container.training INFO     Invoking user training script.\n",
      "2025-04-16 03:55:57,269 sagemaker-training-toolkit INFO     Installing dependencies from requirements.txt:\n",
      "/miniconda3/bin/python -m pip install -r requirements.txt\n",
      "Requirement already satisfied: pandas in /miniconda3/lib/python3.7/site-packages (from -r requirements.txt (line 1)) (1.1.3)\n",
      "Requirement already satisfied: numpy in /miniconda3/lib/python3.7/site-packages (from -r requirements.txt (line 2)) (1.19.2)\n",
      "Requirement already satisfied: joblib in /miniconda3/lib/python3.7/site-packages (from -r requirements.txt (line 3)) (1.2.0)\n",
      "Requirement already satisfied: scikit-learn==0.23.2 in /miniconda3/lib/python3.7/site-packages (from -r requirements.txt (line 4)) (0.23.2)\n",
      "Collecting xgboost\n",
      "  Downloading xgboost-1.6.2-py3-none-manylinux2014_x86_64.whl (255.9 MB)\n",
      "     ━━━━━━━━━━━━━━━━━━━━━━━━━━━━━━━━━━━━━━━ 255.9/255.9 MB 6.5 MB/s eta 0:00:00\n",
      "Requirement already satisfied: boto3 in /miniconda3/lib/python3.7/site-packages (from -r requirements.txt (line 6)) (1.24.17)\n",
      "Collecting matplotlib\n",
      "  Downloading matplotlib-3.5.3-cp37-cp37m-manylinux_2_5_x86_64.manylinux1_x86_64.whl (11.2 MB)\n",
      "     ━━━━━━━━━━━━━━━━━━━━━━━━━━━━━━━━━━━━━━━ 11.2/11.2 MB 105.2 MB/s eta 0:00:00\n",
      "Collecting seaborn\n",
      "  Downloading seaborn-0.12.2-py3-none-any.whl (293 kB)\n",
      "     ━━━━━━━━━━━━━━━━━━━━━━━━━━━━━━━━━━━━━━ 293.3/293.3 kB 29.0 MB/s eta 0:00:00\n",
      "Requirement already satisfied: scipy>=0.19.1 in /miniconda3/lib/python3.7/site-packages (from scikit-learn==0.23.2->-r requirements.txt (line 4)) (1.5.3)\n",
      "Requirement already satisfied: threadpoolctl>=2.0.0 in /miniconda3/lib/python3.7/site-packages (from scikit-learn==0.23.2->-r requirements.txt (line 4)) (3.1.0)\n",
      "Requirement already satisfied: python-dateutil>=2.7.3 in /miniconda3/lib/python3.7/site-packages (from pandas->-r requirements.txt (line 1)) (2.8.1)\n",
      "Requirement already satisfied: pytz>=2017.2 in /miniconda3/lib/python3.7/site-packages (from pandas->-r requirements.txt (line 1)) (2022.7.1)\n",
      "Requirement already satisfied: s3transfer<0.7.0,>=0.6.0 in /miniconda3/lib/python3.7/site-packages (from boto3->-r requirements.txt (line 6)) (0.6.0)\n",
      "Requirement already satisfied: botocore<1.28.0,>=1.27.17 in /miniconda3/lib/python3.7/site-packages (from boto3->-r requirements.txt (line 6)) (1.27.18)\n",
      "Requirement already satisfied: jmespath<2.0.0,>=0.7.1 in /miniconda3/lib/python3.7/site-packages (from boto3->-r requirements.txt (line 6)) (1.0.1)\n",
      "Collecting kiwisolver>=1.0.1\n",
      "  Downloading kiwisolver-1.4.5-cp37-cp37m-manylinux_2_5_x86_64.manylinux1_x86_64.whl (1.1 MB)\n",
      "     ━━━━━━━━━━━━━━━━━━━━━━━━━━━━━━━━━━━━━━━━ 1.1/1.1 MB 101.9 MB/s eta 0:00:00\n",
      "Collecting pyparsing>=2.2.1\n",
      "  Downloading pyparsing-3.1.4-py3-none-any.whl (104 kB)\n",
      "     ━━━━━━━━━━━━━━━━━━━━━━━━━━━━━━━━━━━━━━ 104.1/104.1 kB 28.3 MB/s eta 0:00:00\n",
      "Collecting cycler>=0.10\n",
      "  Downloading cycler-0.11.0-py3-none-any.whl (6.4 kB)\n",
      "Collecting fonttools>=4.22.0\n",
      "  Downloading fonttools-4.38.0-py3-none-any.whl (965 kB)\n",
      "     ━━━━━━━━━━━━━━━━━━━━━━━━━━━━━━━━━━━━━ 965.4/965.4 kB 102.3 MB/s eta 0:00:00\n",
      "Requirement already satisfied: pillow>=6.2.0 in /miniconda3/lib/python3.7/site-packages (from matplotlib->-r requirements.txt (line 7)) (9.4.0)\n",
      "Collecting packaging>=20.0\n",
      "  Downloading packaging-24.0-py3-none-any.whl (53 kB)\n",
      "     ━━━━━━━━━━━━━━━━━━━━━━━━━━━━━━━━━━━━━━━━ 53.5/53.5 kB 15.8 MB/s eta 0:00:00\n",
      "Requirement already satisfied: typing_extensions in /miniconda3/lib/python3.7/site-packages (from seaborn->-r requirements.txt (line 8)) (4.4.0)\n",
      "Requirement already satisfied: urllib3<1.27,>=1.25.4 in /miniconda3/lib/python3.7/site-packages (from botocore<1.28.0,>=1.27.17->boto3->-r requirements.txt (line 6)) (1.26.14)\n",
      "Requirement already satisfied: six>=1.5 in /miniconda3/lib/python3.7/site-packages (from python-dateutil>=2.7.3->pandas->-r requirements.txt (line 1)) (1.15.0)\n",
      "Installing collected packages: pyparsing, packaging, kiwisolver, fonttools, cycler, xgboost, matplotlib, seaborn\n",
      "Successfully installed cycler-0.11.0 fonttools-4.38.0 kiwisolver-1.4.5 matplotlib-3.5.3 packaging-24.0 pyparsing-3.1.4 seaborn-0.12.2 xgboost-1.6.2\n",
      "WARNING: Running pip as the 'root' user can result in broken permissions and conflicting behaviour with the system package manager. It is recommended to use a virtual environment instead: https://pip.pypa.io/warnings/venv\n",
      "[notice] A new release of pip is available: 23.0 -> 24.0\n",
      "[notice] To update, run: pip install --upgrade pip\n",
      "2025-04-16 03:56:08,607 sagemaker-training-toolkit INFO     No GPUs detected (normal if no gpus installed)\n",
      "2025-04-16 03:56:08,619 sagemaker-training-toolkit INFO     No GPUs detected (normal if no gpus installed)\n",
      "2025-04-16 03:56:08,631 sagemaker-training-toolkit INFO     No GPUs detected (normal if no gpus installed)\n",
      "2025-04-16 03:56:08,640 sagemaker-training-toolkit INFO     Invoking user script\n",
      "Training Env:\n",
      "{\n",
      "    \"additional_framework_parameters\": {},\n",
      "    \"channel_input_dirs\": {},\n",
      "    \"current_host\": \"algo-1\",\n",
      "    \"framework_module\": \"sagemaker_sklearn_container.training:main\",\n",
      "    \"hosts\": [\n",
      "        \"algo-1\"\n",
      "    ],\n",
      "    \"hyperparameters\": {},\n",
      "    \"input_config_dir\": \"/opt/ml/input/config\",\n",
      "    \"input_data_config\": {},\n",
      "    \"input_dir\": \"/opt/ml/input\",\n",
      "    \"is_master\": true,\n",
      "    \"job_name\": \"sagemaker-scikit-learn-2025-04-16-03-54-05-319\",\n",
      "    \"log_level\": 20,\n",
      "    \"master_hostname\": \"algo-1\",\n",
      "    \"model_dir\": \"/opt/ml/model\",\n",
      "    \"module_dir\": \"s3://dana-minicapstone-ca/sagemaker-scikit-learn-2025-04-16-03-54-05-319/source/sourcedir.tar.gz\",\n",
      "    \"module_name\": \"train\",\n",
      "    \"network_interface_name\": \"eth0\",\n",
      "    \"num_cpus\": 4,\n",
      "    \"num_gpus\": 0,\n",
      "    \"output_data_dir\": \"/opt/ml/output/data\",\n",
      "    \"output_dir\": \"/opt/ml/output\",\n",
      "    \"output_intermediate_dir\": \"/opt/ml/output/intermediate\",\n",
      "    \"resource_config\": {\n",
      "        \"current_host\": \"algo-1\",\n",
      "        \"current_instance_type\": \"ml.m5.xlarge\",\n",
      "        \"current_group_name\": \"homogeneousCluster\",\n",
      "        \"hosts\": [\n",
      "            \"algo-1\"\n",
      "        ],\n",
      "        \"instance_groups\": [\n",
      "            {\n",
      "                \"instance_group_name\": \"homogeneousCluster\",\n",
      "                \"instance_type\": \"ml.m5.xlarge\",\n",
      "                \"hosts\": [\n",
      "                    \"algo-1\"\n",
      "                ]\n",
      "            }\n",
      "        ],\n",
      "        \"network_interface_name\": \"eth0\"\n",
      "    },\n",
      "    \"user_entry_point\": \"train.py\"\n",
      "}\n",
      "Environment variables:\n",
      "SM_HOSTS=[\"algo-1\"]\n",
      "SM_NETWORK_INTERFACE_NAME=eth0\n",
      "SM_HPS={}\n",
      "SM_USER_ENTRY_POINT=train.py\n",
      "SM_FRAMEWORK_PARAMS={}\n",
      "SM_RESOURCE_CONFIG={\"current_group_name\":\"homogeneousCluster\",\"current_host\":\"algo-1\",\"current_instance_type\":\"ml.m5.xlarge\",\"hosts\":[\"algo-1\"],\"instance_groups\":[{\"hosts\":[\"algo-1\"],\"instance_group_name\":\"homogeneousCluster\",\"instance_type\":\"ml.m5.xlarge\"}],\"network_interface_name\":\"eth0\"}\n",
      "SM_INPUT_DATA_CONFIG={}\n",
      "SM_OUTPUT_DATA_DIR=/opt/ml/output/data\n",
      "SM_CHANNELS=[]\n",
      "SM_CURRENT_HOST=algo-1\n",
      "SM_MODULE_NAME=train\n",
      "SM_LOG_LEVEL=20\n",
      "SM_FRAMEWORK_MODULE=sagemaker_sklearn_container.training:main\n",
      "SM_INPUT_DIR=/opt/ml/input\n",
      "SM_INPUT_CONFIG_DIR=/opt/ml/input/config\n",
      "SM_OUTPUT_DIR=/opt/ml/output\n",
      "SM_NUM_CPUS=4\n",
      "SM_NUM_GPUS=0\n",
      "SM_MODEL_DIR=/opt/ml/model\n",
      "SM_MODULE_DIR=s3://dana-minicapstone-ca/sagemaker-scikit-learn-2025-04-16-03-54-05-319/source/sourcedir.tar.gz\n",
      "SM_TRAINING_ENV={\"additional_framework_parameters\":{},\"channel_input_dirs\":{},\"current_host\":\"algo-1\",\"framework_module\":\"sagemaker_sklearn_container.training:main\",\"hosts\":[\"algo-1\"],\"hyperparameters\":{},\"input_config_dir\":\"/opt/ml/input/config\",\"input_data_config\":{},\"input_dir\":\"/opt/ml/input\",\"is_master\":true,\"job_name\":\"sagemaker-scikit-learn-2025-04-16-03-54-05-319\",\"log_level\":20,\"master_hostname\":\"algo-1\",\"model_dir\":\"/opt/ml/model\",\"module_dir\":\"s3://dana-minicapstone-ca/sagemaker-scikit-learn-2025-04-16-03-54-05-319/source/sourcedir.tar.gz\",\"module_name\":\"train\",\"network_interface_name\":\"eth0\",\"num_cpus\":4,\"num_gpus\":0,\"output_data_dir\":\"/opt/ml/output/data\",\"output_dir\":\"/opt/ml/output\",\"output_intermediate_dir\":\"/opt/ml/output/intermediate\",\"resource_config\":{\"current_group_name\":\"homogeneousCluster\",\"current_host\":\"algo-1\",\"current_instance_type\":\"ml.m5.xlarge\",\"hosts\":[\"algo-1\"],\"instance_groups\":[{\"hosts\":[\"algo-1\"],\"instance_group_name\":\"homogeneousCluster\",\"instance_type\":\"ml.m5.xlarge\"}],\"network_interface_name\":\"eth0\"},\"user_entry_point\":\"train.py\"}\n",
      "SM_USER_ARGS=[]\n",
      "SM_OUTPUT_INTERMEDIATE_DIR=/opt/ml/output/intermediate\n",
      "PYTHONPATH=/opt/ml/code:/miniconda3/bin:/miniconda3/lib/python37.zip:/miniconda3/lib/python3.7:/miniconda3/lib/python3.7/lib-dynload:/miniconda3/lib/python3.7/site-packages\n",
      "Invoking script with the following command:\n",
      "/miniconda3/bin/python train.py\n",
      "Loading data...\n",
      "Transform data...\n",
      "Adding Lags to data...\n",
      "Creating Features data...\n",
      "Splitting data...\n",
      "Training model...\n",
      "Saving models...\n",
      "Model training completed and saved.\n",
      "2025-04-16 03:56:22,594 sagemaker-containers INFO     Reporting training SUCCESS\n",
      "\n",
      "2025-04-16 03:56:41 Uploading - Uploading generated training model\n",
      "2025-04-16 03:56:41 Completed - Training job completed\n",
      "Training seconds: 104\n",
      "Billable seconds: 104\n"
     ]
    }
   ],
   "source": [
    "sklearn_estimator = SKLearn(\n",
    "    entry_point=\"train.py\",       # Use your training script\n",
    "    source_dir=\".\",               # Package the current directory (which includes train.py, inference.py, requirements.txt, etc.)\n",
    "    dependencies=[\"requirements.txt\"],\n",
    "    role=role,\n",
    "    instance_type=\"ml.m5.xlarge\",\n",
    "    framework_version=\"0.23-1\",\n",
    "    output_path=\"s3://dana-minicapstone-ca/model-artifacts/\",\n",
    "    sagemaker_session=sagemaker_session,\n",
    "    job_name=job_name\n",
    ")\n",
    "\n",
    "sklearn_estimator.fit()"
   ]
  },
  {
   "cell_type": "code",
   "execution_count": 3,
   "id": "46513a36",
   "metadata": {},
   "outputs": [
    {
     "data": {
      "text/html": [
       "<pre style=\"white-space:pre;overflow-x:auto;line-height:normal;font-family:Menlo,'DejaVu Sans Mono',consolas,'Courier New',monospace\"><span style=\"color: #7fbfbf; text-decoration-color: #7fbfbf\">[04/15/25 20:57:32] </span><span style=\"color: #0069ff; text-decoration-color: #0069ff; font-weight: bold\">INFO    </span> Creating model with name:                                              <a href=\"file:///Library/Frameworks/Python.framework/Versions/3.12/lib/python3.12/site-packages/sagemaker/session.py\" target=\"_blank\"><span style=\"color: #7f7f7f; text-decoration-color: #7f7f7f\">session.py</span></a><span style=\"color: #7f7f7f; text-decoration-color: #7f7f7f\">:</span><a href=\"file:///Library/Frameworks/Python.framework/Versions/3.12/lib/python3.12/site-packages/sagemaker/session.py#4094\" target=\"_blank\"><span style=\"color: #7f7f7f; text-decoration-color: #7f7f7f\">4094</span></a>\n",
       "<span style=\"color: #7fbfbf; text-decoration-color: #7fbfbf\">                    </span>         sagemaker-scikit-learn-<span style=\"color: #008080; text-decoration-color: #008080; font-weight: bold\">2025</span>-04-16-03-57-32-609                         <span style=\"color: #7f7f7f; text-decoration-color: #7f7f7f\">               </span>\n",
       "</pre>\n"
      ],
      "text/plain": [
       "\u001b[2;36m[04/15/25 20:57:32]\u001b[0m\u001b[2;36m \u001b[0m\u001b[1;38;2;0;105;255mINFO    \u001b[0m Creating model with name:                                              \u001b]8;id=950633;file:///Library/Frameworks/Python.framework/Versions/3.12/lib/python3.12/site-packages/sagemaker/session.py\u001b\\\u001b[2msession.py\u001b[0m\u001b]8;;\u001b\\\u001b[2m:\u001b[0m\u001b]8;id=743149;file:///Library/Frameworks/Python.framework/Versions/3.12/lib/python3.12/site-packages/sagemaker/session.py#4094\u001b\\\u001b[2m4094\u001b[0m\u001b]8;;\u001b\\\n",
       "\u001b[2;36m                    \u001b[0m         sagemaker-scikit-learn-\u001b[1;36m2025\u001b[0m-04-16-03-57-32-609                         \u001b[2m               \u001b[0m\n"
      ]
     },
     "metadata": {},
     "output_type": "display_data"
    },
    {
     "data": {
      "text/html": [
       "<pre style=\"white-space:pre;overflow-x:auto;line-height:normal;font-family:Menlo,'DejaVu Sans Mono',consolas,'Courier New',monospace\"><span style=\"color: #7fbfbf; text-decoration-color: #7fbfbf\">[04/15/25 20:57:33] </span><span style=\"color: #0069ff; text-decoration-color: #0069ff; font-weight: bold\">INFO    </span> Creating endpoint-config with name                                     <a href=\"file:///Library/Frameworks/Python.framework/Versions/3.12/lib/python3.12/site-packages/sagemaker/session.py\" target=\"_blank\"><span style=\"color: #7f7f7f; text-decoration-color: #7f7f7f\">session.py</span></a><span style=\"color: #7f7f7f; text-decoration-color: #7f7f7f\">:</span><a href=\"file:///Library/Frameworks/Python.framework/Versions/3.12/lib/python3.12/site-packages/sagemaker/session.py#6019\" target=\"_blank\"><span style=\"color: #7f7f7f; text-decoration-color: #7f7f7f\">6019</span></a>\n",
       "<span style=\"color: #7fbfbf; text-decoration-color: #7fbfbf\">                    </span>         sagemaker-scikit-learn-<span style=\"color: #008080; text-decoration-color: #008080; font-weight: bold\">2025</span>-04-16-03-57-33-651                         <span style=\"color: #7f7f7f; text-decoration-color: #7f7f7f\">               </span>\n",
       "</pre>\n"
      ],
      "text/plain": [
       "\u001b[2;36m[04/15/25 20:57:33]\u001b[0m\u001b[2;36m \u001b[0m\u001b[1;38;2;0;105;255mINFO    \u001b[0m Creating endpoint-config with name                                     \u001b]8;id=833135;file:///Library/Frameworks/Python.framework/Versions/3.12/lib/python3.12/site-packages/sagemaker/session.py\u001b\\\u001b[2msession.py\u001b[0m\u001b]8;;\u001b\\\u001b[2m:\u001b[0m\u001b]8;id=661216;file:///Library/Frameworks/Python.framework/Versions/3.12/lib/python3.12/site-packages/sagemaker/session.py#6019\u001b\\\u001b[2m6019\u001b[0m\u001b]8;;\u001b\\\n",
       "\u001b[2;36m                    \u001b[0m         sagemaker-scikit-learn-\u001b[1;36m2025\u001b[0m-04-16-03-57-33-651                         \u001b[2m               \u001b[0m\n"
      ]
     },
     "metadata": {},
     "output_type": "display_data"
    },
    {
     "data": {
      "text/html": [
       "<pre style=\"white-space:pre;overflow-x:auto;line-height:normal;font-family:Menlo,'DejaVu Sans Mono',consolas,'Courier New',monospace\"><span style=\"color: #7fbfbf; text-decoration-color: #7fbfbf\">                    </span><span style=\"color: #0069ff; text-decoration-color: #0069ff; font-weight: bold\">INFO    </span> Creating endpoint with name                                            <a href=\"file:///Library/Frameworks/Python.framework/Versions/3.12/lib/python3.12/site-packages/sagemaker/session.py\" target=\"_blank\"><span style=\"color: #7f7f7f; text-decoration-color: #7f7f7f\">session.py</span></a><span style=\"color: #7f7f7f; text-decoration-color: #7f7f7f\">:</span><a href=\"file:///Library/Frameworks/Python.framework/Versions/3.12/lib/python3.12/site-packages/sagemaker/session.py#4841\" target=\"_blank\"><span style=\"color: #7f7f7f; text-decoration-color: #7f7f7f\">4841</span></a>\n",
       "<span style=\"color: #7fbfbf; text-decoration-color: #7fbfbf\">                    </span>         sagemaker-scikit-learn-<span style=\"color: #008080; text-decoration-color: #008080; font-weight: bold\">2025</span>-04-16-03-57-33-651                         <span style=\"color: #7f7f7f; text-decoration-color: #7f7f7f\">               </span>\n",
       "</pre>\n"
      ],
      "text/plain": [
       "\u001b[2;36m                   \u001b[0m\u001b[2;36m \u001b[0m\u001b[1;38;2;0;105;255mINFO    \u001b[0m Creating endpoint with name                                            \u001b]8;id=936619;file:///Library/Frameworks/Python.framework/Versions/3.12/lib/python3.12/site-packages/sagemaker/session.py\u001b\\\u001b[2msession.py\u001b[0m\u001b]8;;\u001b\\\u001b[2m:\u001b[0m\u001b]8;id=36014;file:///Library/Frameworks/Python.framework/Versions/3.12/lib/python3.12/site-packages/sagemaker/session.py#4841\u001b\\\u001b[2m4841\u001b[0m\u001b]8;;\u001b\\\n",
       "\u001b[2;36m                    \u001b[0m         sagemaker-scikit-learn-\u001b[1;36m2025\u001b[0m-04-16-03-57-33-651                         \u001b[2m               \u001b[0m\n"
      ]
     },
     "metadata": {},
     "output_type": "display_data"
    },
    {
     "name": "stdout",
     "output_type": "stream",
     "text": [
      "------!"
     ]
    }
   ],
   "source": [
    "from sagemaker.sklearn.model import SKLearnModel\n",
    "from sagemaker.serializers import CSVSerializer\n",
    "\n",
    "model = SKLearnModel(\n",
    "    model_data=sklearn_estimator.model_data,\n",
    "    role=role,\n",
    "    entry_point=\"inference.py\",  # Reference your inference script\n",
    "    framework_version=\"0.23-1\",\n",
    "    py_version=\"py3\",\n",
    "    source_dir=\".\"\n",
    ")\n",
    "\n",
    "predictor = model.deploy(initial_instance_count=1, instance_type=\"ml.m5.large\")"
   ]
  },
  {
   "cell_type": "code",
   "execution_count": 4,
   "id": "60c84a5a",
   "metadata": {},
   "outputs": [
    {
     "name": "stdout",
     "output_type": "stream",
     "text": [
      "Predictions from endpoint:\n",
      " [['Predicted_HVAC_kWh'], ['-0.09174354187602107'], ['3.9120071056391352'], ['3.137175181411598'], ['2.966215058042277'], ['-0.11315997674233036'], ['3.0042134049680187'], ['2.8470372272090687'], ['2.8244327539119487'], ['-0.14287483855908123'], ['2.9517269434932683'], ['2.8550756104811086'], ['2.7893357040904867'], ['-0.07010931953152011'], ['2.918200936427664'], ['2.734903422250066'], ['2.7488925130702073'], ['-0.11584084365026959'], ['2.86484113154028'], ['2.733579205700158'], ['2.90497906716871'], ['0.1801117371240275'], ['3.028146998662656'], ['2.9271651197857143'], ['2.918699497977115'], ['0.16863090712157103'], ['2.9433605470230026'], ['2.819047500842749'], ['2.7659206877762874'], ['0.07863626930630563'], ['2.7595400548479603'], ['2.3827292102700337'], ['2.5123513947868865'], ['0.03604726215447751'], ['2.5136448240826073'], ['2.3049221248619975'], ['2.310756800069243'], ['-0.15524340755057886'], ['3.3684540147141933'], ['2.917948149294052'], ['2.8565903680105995'], ['2.814317551626404'], ['2.8035598956544505'], ['2.786135902114463'], ['2.817209815336348'], ['2.829173049319764'], ['2.8674743770276043'], ['2.8821849820251844'], ['2.9127685036432567'], ['2.9468497650215544'], ['3.0055935903792554'], ['2.9987145521256195'], ['2.9954298905358003'], ['3.0102828973265385'], ['3.005368082934688'], ['3.0448393306649595'], ['3.049704573598994'], ['3.081804186014787'], ['3.1244396667350234'], ['3.356081332259324'], ['3.393359692251503'], ['3.3781034230850935'], ['3.2246099730647133'], ['3.2324923539162476'], ['3.265910780227481'], ['3.288671915436756'], ['3.302011586982119'], ['3.3173949920634924'], ['3.3736223130691534'], ['3.4556071725236115'], ['3.4880534494307716'], ['3.5066058473245185'], ['3.5518820611249726'], ['3.60930760920489'], ['3.6723112688996364'], ['3.7037838144425557'], ['3.727651104929057'], ['3.7581593253097756'], ['3.7741410613579087'], ['3.710160877949132'], ['3.679023974483541'], ['3.6800772894513933'], ['3.73498186759268'], ['3.8416938114037595'], ['3.942232305089531'], ['3.869325385366439'], ['3.920519792267296'], ['3.895997702394471'], ['3.934882179061786'], ['3.9361490694722194'], ['3.969084077244325'], ['3.9602560201811183'], ['3.753329586353412'], ['3.7331445844895894'], ['3.7122078317607974'], ['3.6691072526395354'], ['3.5960108781262137'], ['3.519013624446304'], ['3.4731240328755195'], ['3.459132590696295'], ['3.4080216930875813'], ['3.3997258752799375'], ['3.31386237141912'], ['3.2653512739139052'], ['3.1648375263130424'], ['3.1633888830593144'], ['3.127207110282665'], ['3.1430430545968204'], ['3.122268275769183'], ['3.297697300808836'], ['2.0450454440220707'], ['2.7224549938856724'], ['2.652675763592716'], ['0.4265362120693035'], ['2.841144883533736'], ['2.5489071173798155'], ['2.660625721209975'], ['0.39438222976650184'], ['2.806355048373236'], ['2.55899579864416'], ['2.6737873753588124'], ['0.5136568627158673'], ['2.8054925253883964'], ['2.6231367649670387'], ['2.6976228522227963'], ['0.4567230944555797'], ['2.837255819742284'], ['2.6580400166009857'], ['2.6924434698717614'], ['0.4470370558599138'], ['2.776641699996616'], ['2.5772864106075355'], ['2.605776209613185'], ['0.3830967837939938'], ['2.5668919225982454'], ['2.1665096029243935'], ['2.2338110876397494'], ['-0.12398378028366563'], ['2.6057611080457326'], ['2.1456320333221104'], ['2.269072924085034'], ['0.0023745809319630773'], ['2.4269081217463797'], ['2.0837150615578945'], ['2.1528572283460115'], ['0.008421708866972466'], ['2.7840818377150707'], ['2.509428706133493'], ['2.47480113784872'], ['-0.1542335107199293'], ['2.5814015832450474'], ['2.376063186158166'], ['2.4363289704437356'], ['-0.12572264043125236'], ['2.5929631641247037'], ['2.4227460451729'], ['2.432777170178996'], ['-0.21537820571454103'], ['2.6058168445526357'], ['2.4160849805051354'], ['2.4281528359615523'], ['-0.20555718167757053'], ['2.5796779425851764'], ['2.405356188467601'], ['2.4309625768906793'], ['-0.16738373057236644'], ['2.607468528215128'], ['2.457045744499766'], ['2.522059078738527'], ['-0.09522995766172526'], ['2.6421180037589442'], ['2.4623208687958185'], ['2.4982037519478295'], ['-0.12601239962381405'], ['2.6001788733448663'], ['2.419189329815056'], ['2.4582788895219876'], ['-0.14572406587818643'], ['2.543530363069757'], ['2.370480787093383'], ['2.4046590736948485'], ['-0.1684612873416802'], ['2.5290202096004766'], ['2.3195947088120725'], ['2.396166816445909'], ['0.4683312425585886'], ['2.4392020254908955'], ['2.3219234752343887'], ['2.4647825978047146'], ['0.5669202247780688'], ['2.5032043309811134'], ['2.329130755929444'], ['2.427478724200045'], ['0.678769253106542'], ['2.7898438334467692'], ['2.464860105557885'], ['2.6583312215171615'], ['0.5088810526652519'], ['2.9846655644355375'], ['2.5357167675747956'], ['2.6774069108647844'], ['0.4193368480678641'], ['3.08326276140241'], ['2.5941612142791293'], ['2.8347573992061688'], ['0.3498919873261337'], ['3.1220599835444074'], ['2.560371375159359'], ['2.782856736706862'], ['0.16005051520979985'], ['3.2151575626616986'], ['2.544458769065097'], ['2.7096263185349354'], ['0.13941985554900116'], ['3.1626549049937878'], ['2.6679014712140576'], ['2.8729486463775085'], ['0.27356476577812183'], ['3.3248502390098658'], ['2.96774923705528'], ['3.1100942138691985'], ['0.36987773941481006'], ['3.575817076722924'], ['3.23114728252715'], ['3.3359605443464764'], ['0.3702525000661061'], ['3.7269647031281865'], ['3.2771264541834833'], ['3.312455013876892'], ['0.41662904428141245'], ['3.6259035814882186'], ['3.1456422587261623'], ['3.166730778394797'], ['0.4109376352817662'], ['3.570682368764686'], ['3.000475638923277'], ['3.2356600854835964'], ['0.47249302428320905'], ['3.5918309128799093'], ['2.9640336471475934'], ['3.111505415319122'], ['0.4834515990042443'], ['3.468297561869581'], ['2.7507075145378352'], ['2.9163740118211585'], ['0.40990385419302067'], ['3.140335782781745'], ['2.609664138439869'], ['2.867013944537922'], ['0.6241237924903102'], ['3.1307944827416736'], ['2.72009700950332'], ['2.914745054401298'], ['0.7138576751292902'], ['2.8437587566691156'], ['2.544901630235503'], ['2.6613780758398407'], ['-0.14170784886199062'], ['2.7700600723409226'], ['2.3635214204324746'], ['2.5431805413947925'], ['-0.19010491470579727'], ['2.640011630983272'], ['2.3022874834266362'], ['2.4399060650734823'], ['-0.17743667804364105'], ['2.446380149986007'], ['2.1748983103001436'], ['2.265226628694621'], ['-0.32125800057193854'], ['2.245716792874628'], ['1.9038528094956515'], ['1.9764728774360951'], ['-0.21016263893296405'], ['2.0288142863685064'], ['1.7730680852808307'], ['1.8468481165585815'], ['-0.29971948816713434'], ['1.9138050558686208'], ['1.693736184749764'], ['1.7884439888502472'], ['-0.2720703380663463'], ['1.9091935225109855'], ['1.7079908068145793'], ['1.7722229727351466'], ['-0.35193020577696377'], ['1.8565541527612168'], ['1.6845302465352208'], ['1.7404446267923805'], ['-0.35712168408914113'], ['-0.1435768362271681'], ['-0.17834989379755584'], ['-0.18797148122782636'], ['-0.24107660089738037'], ['-0.1591720607380751'], ['-0.1481441125619658'], ['-0.1611767149292893'], ['-0.25768589387625696'], ['-0.18166868998217467'], ['-0.2017042437159995'], ['-0.2111770896777836'], ['-0.2977741337094282'], ['-0.2045978562080295'], ['-0.19447605429796688'], ['-0.1763997845537042'], ['-0.23125339241197618'], ['-0.13972626960400913'], ['-0.1302479084413053'], ['-0.16563515019471264'], ['-0.2838816617496389'], ['-0.20625942066653957'], ['-0.16046437246851641'], ['-0.26262482796852415'], ['-0.30990786421929006'], ['-0.26269619388645826'], ['-0.22622364852465915'], ['-0.3080456446355009'], ['-0.37491895272035225'], ['-0.31451731076408973'], ['-0.20370450694880549'], ['-0.1337040263750181'], ['-0.2379970931974933'], ['-0.13603969909367009'], ['0.000605832659494876'], ['-0.11877685227955159'], ['-0.34042321890107763'], ['3.419650197567978'], ['2.7977226653027216'], ['2.776569896059936'], ['2.777053754611237'], ['2.8258906747026744'], ['2.6740437023716552'], ['2.6257300394724616'], ['2.494812803009573'], ['2.4299532824159504'], ['2.457136740047066'], ['2.4680810434323948'], ['2.659699601767386'], ['2.8883442802707813'], ['3.051182224431333'], ['3.670886714446426'], ['3.6553545718195233'], ['4.141947720445673'], ['4.157060975508255'], ['4.151706878409087'], ['4.086550102344866'], ['4.379594594834799'], ['4.428748364073391'], ['4.506156230549641'], ['4.2212579095006575'], ['4.59664152569896'], ['4.65658646822866'], ['4.874795841769375'], ['4.654140064024678'], ['5.016879149773683'], ['4.838558505527674'], ['4.9704433192655575'], ['4.954766856090521'], ['4.979183878847058'], ['4.836947133309364'], ['4.821656657777321'], ['4.739964337829816'], ['4.88159578031839'], ['4.863188471998994'], ['4.916335195183388'], ['4.991484735670836'], ['5.206762953637954'], ['5.055815809968152'], ['5.12589037649197'], ['5.2803589664247585'], ['5.471446077651411'], ['5.437745580231704'], ['5.53444376636152'], ['5.714539372118914'], ['5.717468650755581'], ['5.578047175979423'], ['5.681332886200732'], ['5.672794340793024'], ['5.679823178508091'], ['5.784333025586891'], ['5.8189639701188725'], ['5.817834958669684'], ['5.8554484629548185'], ['5.613999779549056'], ['5.5475113210744365'], ['5.603531437392119'], ['5.401213949629678'], ['5.195055747704304'], ['5.105731777108822'], ['5.185460171392895'], ['4.857253210286354'], ['4.85562588446742'], ['4.800992001595613'], ['4.384609508363699'], ['3.819765659330093'], ['3.392810407084922'], ['3.294274942865175'], ['3.0912849100344286'], ['2.3786741669322935'], ['2.3720309986451147'], ['2.358597925114239'], ['2.3424138499534433'], ['2.397745361633901'], ['2.3909815635854015'], ['2.561523684190157'], ['2.5052894110329227'], ['2.5102237782750043'], ['2.485607801072873'], ['2.4464103253236016'], ['2.3959310146254515'], ['2.2430662605265264'], ['2.2488063792791966'], ['2.2476752016271324'], ['2.222924076610365'], ['2.2783636280487167'], ['2.287120022259903'], ['2.2581578648211713'], ['2.211747541839964'], ['2.2374853556107235'], ['2.223167940305662'], ['2.2324698947661803'], ['2.1664251185709777'], ['-5.152574698019663e-06'], ['0.1035454908262523'], ['0.13459845766755252'], ['-0.21796785408264352'], ['0.030479235375798108'], ['0.1335199821531996'], ['0.12851996576082647'], ['-0.23202025451252672'], ['0.11344558663920457'], ['0.09819538650056492'], ['0.09500206547623002'], ['-0.23875216329274385'], ['-0.14215774584872998'], ['-0.1570445765770313'], ['-0.1560919321230403'], ['-0.18789837068112725'], ['-0.15056543048252946'], ['-0.1559988344987423'], ['-0.1771461967307565'], ['-0.20068011810288144'], ['-0.15570935318029866'], ['-0.16133850755482904'], ['-0.18378775650282952'], ['-0.010427760243261641'], ['-0.13703175115841193'], ['-0.1997244707949719'], ['-0.1771573491967906'], ['-0.1833333115644371'], ['-0.14873804074434782'], ['-0.24727064674212906'], ['-0.15085465666536324'], ['-0.18611468274679854'], ['-0.16047272477889762'], ['-0.1523918089512173'], ['-0.10473540283106919'], ['-0.13934425698074415'], ['-0.08614906657450283'], ['-0.07277706789446314'], ['-0.059069194406779824'], ['-0.14512536738949522'], ['-0.1277804789504503'], ['-0.13901806210155498'], ['-0.1254243750220566'], ['-0.09845224755613735'], ['-0.04933385861248063'], ['-0.05822157985711551'], ['-0.0740640595709039'], ['-0.12633573481693405'], ['4.014198037568358'], ['3.228885467188582'], ['3.0570952941823375'], ['3.02791721887022'], ['2.9983944234137874'], ['2.8616538845022004'], ['3.010898573421226'], ['3.202658931338628'], ['3.221043220105605'], ['3.2692978227252842'], ['3.320104593261137'], ['3.3682019972817843'], ['3.6884094259492506'], ['3.988552620462574'], ['4.679482847547934'], ['5.264334177500505'], ['5.555318826602338'], ['5.450388088931575'], ['5.374409267154315'], ['5.433848052194552'], ['5.50683518160421'], ['5.72444295026445'], ['5.871289919758658'], ['5.980557464124148'], ['5.891149681497046'], ['6.000623834419303'], ['6.037538520284899'], ['6.128854079126752'], ['6.1793211687305885'], ['6.20608719162459'], ['6.283052625033564'], ['6.281185397518932'], ['6.2055155327908835'], ['6.245122753735586'], ['6.186863482730594'], ['6.165133552615481'], ['6.23731115621681'], ['6.055757139190895'], ['6.156130091083156'], ['6.26020673667815'], ['6.456847316643554'], ['6.680149445745496'], ['6.754734981157995'], ['6.850023792003798'], ['6.961275297204626'], ['7.065105478007206'], ['7.047171556469529'], ['7.103966599505341'], ['6.96337227857491'], ['6.9276775139138955'], ['6.934079249921032'], ['6.980589987761233'], ['6.953100825031575'], ['6.986550526387957'], ['6.976350759637471'], ['7.035115108394308'], ['6.986907926380308'], ['7.010095144821188'], ['6.978155654094067'], ['6.940004864307758'], ['6.957166356711486'], ['6.870037616501673'], ['6.785978094040065'], ['6.676129850738521'], ['6.588572669552196'], ['6.4612106434266305'], ['6.395874027253509'], ['6.272751625946075'], ['5.414454852415879'], ['4.729915565105229'], ['4.35552852929359'], ['4.175971749372959'], ['3.2144321067764774'], ['3.190900439155129'], ['3.17712866736124'], ['3.1322024537457365'], ['3.152273324423465'], ['3.1377058376682423'], ['3.1323540816320423'], ['3.1017441291174648'], ['3.1324800299253894'], ['3.12907108678685'], ['3.123336524291539'], ['3.092813674843281'], ['3.0948003076531663'], ['3.070461663742712'], ['3.043856130923316'], ['2.990606230168712'], ['2.996726706567162'], ['2.9743744830539764'], ['2.9672902854829943'], ['2.934787321089628'], ['2.9633257527229526'], ['2.965065985373152'], ['2.9670219426345357'], ['2.941888375423904'], ['0.06274514080516014'], ['0.05867390847910592'], ['0.05560304460326648'], ['0.10518581143408845'], ['0.13333376441032563'], ['0.1427809513345777'], ['0.1036717921838749'], ['0.07536677291077698'], ['0.10749529656427548'], ['0.10707986050438545'], ['0.10900314633978092'], ['0.08244456957942381'], ['0.02916826021485941'], ['0.020565788709075772'], ['0.013883443253498773'], ['-0.02090644186132229'], ['0.001607416461333444'], ['-0.008912752634372745'], ['0.01433589909551325'], ['-0.01641924740920242'], ['0.05028351603027481'], ['0.06721335699671227'], ['0.08915341933401788'], ['0.09934650469694306'], ['0.10599761680007258'], ['0.10068960798859039'], ['0.09701421133743315'], ['0.06608481093993746'], ['0.09075779351370672'], ['0.0853948646850421'], ['0.07646661709928082'], ['0.04322768802949284'], ['0.06507100172226266'], ['0.0601682789115483'], ['0.06014636310853705'], ['0.05202007002585951'], ['0.06182145162152741'], ['0.04675059030627404'], ['0.034037822729057865'], ['-0.008830890124889468'], ['0.005304727352092198'], ['-0.009523234213787979'], ['0.899147523916063'], ['0.8474954502194361'], ['0.8463229482378293'], ['-0.06731383467730723'], ['-0.09314312289962312'], ['-0.14587230855950484'], ['4.643679098190834'], ['3.7172343500222316'], ['3.4527359505726625'], ['3.309271117856796'], ['3.2720383919073597'], ['3.2242278845333887'], ['3.59829106902444'], ['3.5509133032402187'], ['3.572265451813872'], ['3.555386601070908'], ['3.5447297181888526'], ['3.481950826426926'], ['3.6679267029811897'], ['3.9989682398700794'], ['4.626797331673043'], ['5.275841979067467'], ['5.668657143043232'], ['5.724243277285796'], ['5.669679831398719'], ['5.502507450562959'], ['5.841800700826063'], ['5.8678148059940085'], ['6.050333943890687'], ['6.168134010438646'], ['6.18689189570266'], ['6.195538503471505'], ['6.183750550011199'], ['6.22905634138599'], ['6.464444738544712'], ['6.5286455448372145'], ['6.587589520792788'], ['6.484639823297844'], ['6.2809889499838345'], ['6.203964073396229'], ['6.117799831412247'], ['5.960303016996642'], ['6.001002278274864'], ['5.936159914895054'], ['6.087330362469849'], ['6.071476228938714'], ['6.160211381321661'], ['6.295140206918333'], ['6.3854060546825835'], ['6.416763956868227'], ['6.642745950730051'], ['6.61099354897941'], ['6.781257279571337'], ['6.726274563704582'], ['6.781414493560355'], ['6.70595089135017'], ['6.717756556233768'], ['6.620636473543026'], ['6.386473604563962'], ['6.369071326558709'], ['6.346340603622288'], ['6.212577343143888'], ['6.2486156051790935'], ['6.181623046774645'], ['6.1299518562756035'], ['6.029393926755407'], ['6.067643849005179'], ['6.101012752507817'], ['6.049199475189734'], ['5.882572713170431'], ['5.9376810436167915'], ['5.801505218789396'], ['5.673377144978433'], ['5.318139084181377'], ['4.665329803631449'], ['3.97772333837608'], ['3.745330741804352'], ['3.592128454695947'], ['2.6178545006080904'], ['2.579835017576139'], ['2.5528064678466977'], ['2.5034029385666132'], ['2.5074083842356654'], ['2.4851459703279275'], ['2.4692193761943146'], ['2.4307153972347733'], ['2.4449398091902923'], ['2.4330996429344465'], ['2.41715393770333'], ['2.3783580551870864'], ['2.39415502004589'], ['2.3896757010438523'], ['2.3821963000381703'], ['2.352481467112573'], ['2.375118102971724'], ['2.372510623011564'], ['2.34514924574367'], ['2.2955956263532'], ['2.2976582007969437'], ['2.273712342290838'], ['2.2537297944222914'], ['2.203786709770548'], ['-0.15570534195382102'], ['-0.1626365174744746'], ['-0.15096323143343127'], ['-0.18801907041661536'], ['-0.17044899803596913'], ['-0.16134487723574087'], ['-0.16100221751352684'], ['-0.20695379174281126'], ['-0.1989724778492914'], ['-0.1807271247163733'], ['-0.16886989742279823'], ['-0.21470668761595268'], ['-0.05313792387509242'], ['-0.05208752955413365'], ['-0.0508359712360027'], ['-0.04938726718595232'], ['-0.04774321758131994'], ['-0.04590673417458069'], ['-0.03560658830430441'], ['-0.022716020980407148'], ['-0.009839899201557145'], ['0.0030191476992409427'], ['-0.0044799661986463235'], ['-0.03577146710474155'], ['-0.03961751876001207'], ['-0.015092294545067997'], ['-0.030156817561659555'], ['-0.04440341521669433'], ['-0.040295359927025265'], ['-0.058120590981079356'], ['-0.06176121661115053'], ['-0.06576237469858004'], ['-0.06973761442884552'], ['-0.07368677024354575'], ['-0.07761113417589494'], ['-0.08151104137512521'], ['-0.0938999476863498'], ['-0.09170742152099365'], ['-0.08887812793806882'], ['-0.10703094568249738'], ['-0.1251857371364058'], ['-0.12235728657711387'], ['0.6353361609368409'], ['0.6194214395296123'], ['0.6184263174647735'], ['-0.11842111454914495'], ['-0.13645775235493884'], ['-0.14872046502030423'], ['3.891082786819423'], ['3.1972043307428315'], ['2.948073699378898'], ['2.857134358963175'], ['2.780526390220022'], ['2.691435366435214'], ['3.1026755042045786'], ['3.070619215665525'], ['3.0894739942658425'], ['3.071752066532797'], ['3.0947444969830036'], ['3.0555006391777297'], ['3.47861565132315'], ['3.919582199771007'], ['4.5570626774463205'], ['5.094756753885697'], ['5.228290077088797'], ['5.295800880375591'], ['5.388344977606247'], ['5.834098226337694'], ['5.792010808080365'], ['5.986282521995506'], ['6.037162034820456'], ['6.199979153553988'], ['6.255868356383523'], ['6.402668427636819'], ['6.456127479185804'], ['6.537841455873808'], ['6.576418352959058'], ['6.671600658577459'], ['6.761089929741713'], ['6.707407298368299'], ['6.581255628385854'], ['6.571628654520765'], ['6.4802704983540185'], ['6.444050445174387'], ['6.441840885971322'], ['6.435899184480091'], ['6.400991771300317'], ['6.485125238838808'], ['6.560010696165007'], ['6.638965818086588'], ['6.6688462040607615'], ['6.892405728932685'], ['7.024443391911783'], ['7.054031884206502'], ['7.064539075750643'], ['7.014589694555699'], ['6.8613338003051325'], ['6.739458591735154'], ['6.645289745258916'], ['6.636970690702354'], ['6.578125091092652'], ['6.610539566272555'], ['6.599963275086955'], ['6.592312119155011'], ['6.513054128429216'], ['6.502414348931479'], ['6.412014715355939'], ['6.36956433251121'], ['6.414836473061413'], ['6.277916356059862'], ['6.218583187232424'], ['6.171870422790571'], ['6.104894383061609'], ['6.151763604783552'], ['6.049657938016624'], ['5.759395819350207'], ['5.146276900132396'], ['4.5313426161498445'], ['4.295289920021045'], ['4.1492350242977665'], ['2.922505764379082'], ['2.8903786614884073'], ['2.822577996104877'], ['2.7811279329285385'], ['2.7118743075537286'], ['2.6890965651187986'], ['2.670388702753154'], ['2.659284289096192'], ['2.6478263356840253'], ['2.63661096340501'], ['2.625084765126897'], ['2.613721964331975'], ['2.6044911718901367'], ['2.60188214360862'], ['2.600451659480403'], ['2.5997458095095975'], ['2.5996378908501403'], ['2.600006256662227'], ['2.5824286428068417'], ['2.5671865121842865'], ['2.551675823404832'], ['2.5359154818325815'], ['2.5202569561925725'], ['2.5045813845386222'], ['-0.09057782268564019'], ['-0.09471970832951593'], ['-0.09878074758113398'], ['-0.10275861887278381'], ['-0.106653347926017'], ['-0.11046449086914567'], ['-0.11306869002203657'], ['-0.11306575969290344'], ['-0.11306419531387268'], ['-0.11306180724039638'], ['-0.11305887760298594'], ['-0.11305719980984419'], ['-0.15905999376650337'], ['-0.1554944112669001'], ['-0.15192758698414055'], ['-0.14836061722295835'], ['-0.14479439975240016'], ['-0.14122774934745452'], ['-0.13600584440534602'], ['-0.12823981562693998'], ['-0.12053858991752398'], ['-0.11290030732308898'], ['-0.10532649695751894'], ['-0.09781944404065346'], ['-0.08883257475725603'], ['-0.0771886986409176'], ['-0.06549457356683686'], ['-0.053748740092993685'], ['-0.04195108616557386'], ['-0.04167381506894863'], ['-0.03766171605143409'], ['-0.03512573991174195'], ['-0.03258714892679926'], ['-0.03004316225916126'], ['-0.027495369152850113'], ['-0.024943680666032364'], ['-0.02050050009957438'], ['-0.03556062785315417'], ['-0.042956644213706596'], ['-0.034940284506371544'], ['-0.027988120774666836'], ['-0.02106924462336801'], ['0.8077197743317477'], ['0.8153461331972665'], ['0.8089677837579461'], ['-0.0280968129456185'], ['-0.041701772117747726'], ['-0.055242504148464544'], ['4.861639032387396'], ['3.670774277635187'], ['3.2671955543551725'], ['3.2722165770441323'], ['3.1705758894561424'], ['3.104570066094925'], ['3.5997429433048964'], ['3.562011185714832'], ['3.58452959764507'], ['3.5629864964862388'], ['3.5670872745945177'], ['3.580108308642982'], ['3.855734961667739'], ['4.007740858054594'], ['4.125220404938741'], ['4.5973632020998'], ['5.008113083482712'], ['5.069209652919439'], ['4.698260733886469'], ['4.680390432612656'], ['4.8434783178949194'], ['4.886282883610788'], ['4.973727274401316'], ['4.863967983049898'], ['4.969787972024965'], ['5.136329101438061'], ['5.349483606286974'], ['5.3812690240236485'], ['5.4403831854489155'], ['5.513076351214103'], ['5.491573359162469'], ['5.554544163768272'], ['5.544190009508753'], ['5.571727004840113'], ['5.576762711767847'], ['5.577156435092029'], ['5.7011540323281995'], ['5.733661438246335'], ['5.76062371624908'], ['5.787521076798111'], ['5.770332626174946'], ['5.820892253000549'], ['5.756748158612034'], ['5.778161963457212'], ['5.824073979876591'], ['5.9272921257461295'], ['5.888490444723155'], ['6.036000956525003'], ['6.022695040448511'], ['6.068206205712576'], ['6.138246502439884'], ['6.109730745792149'], ['6.258288048571243'], ['6.120563399141158'], ['6.179379432294663'], ['5.966587228391674'], ['5.958856021639541'], ['6.110179428345701'], ['6.062928451907895'], ['5.996138413931334'], ['5.6873870763591885'], ['5.780889508369675'], ['5.745463166347882'], ['5.635088487742047'], ['5.7057653835785'], ['5.618620147535285'], ['5.514751249607334'], ['5.047360020690135'], ['4.733608858151655'], ['4.311208872486489'], ['4.210422172094345'], ['4.156934316040227'], ['3.05448428701944'], ['3.0181409112388726'], ['2.9944062852004354'], ['2.973598890700706'], ['2.950453446435482'], ['2.940079196122279'], ['2.910450897147409'], ['2.8970059022652457'], ['2.8830115072438067'], ['2.8693831344228764'], ['2.8257886008894832'], ['2.8037012274456643'], ['2.829215575847793'], ['2.8277113331058703'], ['2.8232835430766605'], ['2.819866667194889'], ['2.8173837448677563'], ['2.7851543669407177'], ['2.7764082861691186'], ['2.800678702054703'], ['2.794184291412564'], ['2.7880492875457614'], ['2.782170786735683'], ['2.776435366521852'], ['-0.18511835909753005'], ['-0.18699519554274913'], ['-0.1888465922026641'], ['-0.19067470046979285'], ['-0.1599976252487494'], ['-0.1617779190344999'], ['-0.1748528509512548'], ['-0.21698765475682702'], ['-0.22679604028451683'], ['-0.2367574464439559'], ['-0.24686811963397748']]\n"
     ]
    }
   ],
   "source": [
    "predictor.serializer = CSVSerializer()\n",
    "predictor.deserializer = CSVDeserializer()\n",
    "\n",
    "s3 = boto3.client('s3', region_name='ca-central-1')\n",
    "bucket_name = \"dana-minicapstone-ca\"\n",
    "test_key = \"data/hvac_test.csv\"\n",
    "response = s3.get_object(Bucket=bucket_name, Key=test_key)\n",
    "test_csv = response['Body'].read().decode('utf-8')\n",
    "\n",
    "result = predictor.predict(test_csv)\n",
    "print(\"Predictions from endpoint:\\n\", result)"
   ]
  }
 ],
 "metadata": {
  "kernelspec": {
   "display_name": "Python 3",
   "language": "python",
   "name": "python3"
  },
  "language_info": {
   "codemirror_mode": {
    "name": "ipython",
    "version": 3
   },
   "file_extension": ".py",
   "mimetype": "text/x-python",
   "name": "python",
   "nbconvert_exporter": "python",
   "pygments_lexer": "ipython3",
   "version": "3.12.0"
  }
 },
 "nbformat": 4,
 "nbformat_minor": 5
}
